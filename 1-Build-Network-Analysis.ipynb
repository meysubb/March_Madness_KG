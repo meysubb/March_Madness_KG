{
 "cells": [
  {
   "cell_type": "code",
   "execution_count": 1,
   "metadata": {},
   "outputs": [],
   "source": [
    "import pandas as pd\n",
    "import numpy as np"
   ]
  },
  {
   "cell_type": "code",
   "execution_count": 2,
   "metadata": {},
   "outputs": [
    {
     "data": {
      "text/plain": [
       "(161552, 8)"
      ]
     },
     "execution_count": 2,
     "metadata": {},
     "output_type": "execute_result"
    }
   ],
   "source": [
    "season_dat = pd.read_csv('data/DataFiles/RegularSeasonCompactResults.csv')\n",
    "season_dat.shape"
   ]
  },
  {
   "cell_type": "code",
   "execution_count": 3,
   "metadata": {},
   "outputs": [
    {
     "data": {
      "text/plain": [
       "(2184, 8)"
      ]
     },
     "execution_count": 3,
     "metadata": {},
     "output_type": "execute_result"
    }
   ],
   "source": [
    "tourney_dat = pd.read_csv('data/DataFiles/NCAATourneyCompactResults.csv')\n",
    "tourney_dat.shape"
   ]
  },
  {
   "cell_type": "markdown",
   "metadata": {},
   "source": [
    "## Limit data to 2004 onwards. "
   ]
  },
  {
   "cell_type": "code",
   "execution_count": 4,
   "metadata": {},
   "outputs": [
    {
     "data": {
      "text/plain": [
       "(82888, 8)"
      ]
     },
     "execution_count": 4,
     "metadata": {},
     "output_type": "execute_result"
    }
   ],
   "source": [
    "szn_dat = season_dat[season_dat['Season']>=2004]\n",
    "szn_dat.shape"
   ]
  },
  {
   "cell_type": "code",
   "execution_count": 5,
   "metadata": {},
   "outputs": [
    {
     "data": {
      "text/plain": [
       "(984, 8)"
      ]
     },
     "execution_count": 5,
     "metadata": {},
     "output_type": "execute_result"
    }
   ],
   "source": [
    "t_dat = tourney_dat[tourney_dat['Season']>=2004]\n",
    "t_dat.shape"
   ]
  },
  {
   "cell_type": "code",
   "execution_count": 6,
   "metadata": {},
   "outputs": [],
   "source": [
    "### Identify tourney teams"
   ]
  },
  {
   "cell_type": "code",
   "execution_count": 7,
   "metadata": {},
   "outputs": [],
   "source": [
    "tourney_teams_part_a = t_dat[['Season','WTeamID']].rename(columns={'WTeamID':'TeamID'})\n",
    "tourney_teams_part_b = t_dat[['Season','LTeamID']].rename(columns={'LTeamID':'TeamID'})"
   ]
  },
  {
   "cell_type": "code",
   "execution_count": 8,
   "metadata": {},
   "outputs": [],
   "source": [
    "tourney_teams = pd.concat([tourney_teams_part_a,tourney_teams_part_b]).reset_index(drop=True)"
   ]
  },
  {
   "cell_type": "code",
   "execution_count": 9,
   "metadata": {},
   "outputs": [],
   "source": [
    "## Extract games for only teams that were in the tourney that year.  "
   ]
  },
  {
   "cell_type": "code",
   "execution_count": 10,
   "metadata": {},
   "outputs": [],
   "source": [
    "szn_tourney_teams_part_a = pd.merge(szn_dat,tourney_teams,how='inner',\n",
    "                                   left_on=['Season', 'WTeamID'], \n",
    "                                   right_on=['Season', 'TeamID'])\n",
    "szn_tourney_teams_part_b = pd.merge(szn_dat,tourney_teams,how='inner',\n",
    "                                   left_on=['Season', 'LTeamID'], \n",
    "                                   right_on=['Season', 'TeamID'])\n"
   ]
  },
  {
   "cell_type": "code",
   "execution_count": 17,
   "metadata": {},
   "outputs": [
    {
     "data": {
      "text/plain": [
       "(62987, 8)"
      ]
     },
     "execution_count": 17,
     "metadata": {},
     "output_type": "execute_result"
    }
   ],
   "source": [
    "szn_tourney_teams = pd.concat([szn_tourney_teams_part_a,szn_tourney_teams_part_b])\n",
    "szn_tourney_teams = szn_tourney_teams.drop('TeamID',axis=1)\n",
    "szn_tourney_teams = szn_tourney_teams.fillna(0)\n",
    "szn_tourney_teams.shape"
   ]
  },
  {
   "cell_type": "code",
   "execution_count": 18,
   "metadata": {},
   "outputs": [
    {
     "data": {
      "text/plain": [
       "(27301, 8)"
      ]
     },
     "execution_count": 18,
     "metadata": {},
     "output_type": "execute_result"
    }
   ],
   "source": [
    "szn_tourney_teams = szn_tourney_teams.drop_duplicates()\n",
    "szn_tourney_teams.shape"
   ]
  },
  {
   "cell_type": "code",
   "execution_count": null,
   "metadata": {},
   "outputs": [],
   "source": []
  }
 ],
 "metadata": {
  "kernelspec": {
   "display_name": "march_madness",
   "language": "python",
   "name": "march_madness"
  },
  "language_info": {
   "codemirror_mode": {
    "name": "ipython",
    "version": 3
   },
   "file_extension": ".py",
   "mimetype": "text/x-python",
   "name": "python",
   "nbconvert_exporter": "python",
   "pygments_lexer": "ipython3",
   "version": "3.7.0"
  }
 },
 "nbformat": 4,
 "nbformat_minor": 2
}
