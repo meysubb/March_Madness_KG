{
 "cells": [
  {
   "cell_type": "code",
   "execution_count": 1,
   "metadata": {},
   "outputs": [],
   "source": [
    "import pandas as pd"
   ]
  },
  {
   "cell_type": "code",
   "execution_count": 2,
   "metadata": {},
   "outputs": [],
   "source": [
    "df_sub = pd.read_csv('data/SampleSubmissionStage2.csv')\n",
    "df_kp = pd.read_csv('data/Final/final_raw_kp_dat.csv')\n",
    "df_seed = pd.read_csv('data/Final/final_raw_seeds.csv')"
   ]
  },
  {
   "cell_type": "code",
   "execution_count": 3,
   "metadata": {},
   "outputs": [
    {
     "data": {
      "text/html": [
       "<div>\n",
       "<style scoped>\n",
       "    .dataframe tbody tr th:only-of-type {\n",
       "        vertical-align: middle;\n",
       "    }\n",
       "\n",
       "    .dataframe tbody tr th {\n",
       "        vertical-align: top;\n",
       "    }\n",
       "\n",
       "    .dataframe thead th {\n",
       "        text-align: right;\n",
       "    }\n",
       "</style>\n",
       "<table border=\"1\" class=\"dataframe\">\n",
       "  <thead>\n",
       "    <tr style=\"text-align: right;\">\n",
       "      <th></th>\n",
       "      <th>TeamID</th>\n",
       "      <th>year</th>\n",
       "      <th>ADJOE</th>\n",
       "      <th>ADJDE</th>\n",
       "      <th>Luck</th>\n",
       "    </tr>\n",
       "  </thead>\n",
       "  <tbody>\n",
       "    <tr>\n",
       "      <th>0</th>\n",
       "      <td>1438</td>\n",
       "      <td>2019</td>\n",
       "      <td>123.6</td>\n",
       "      <td>88.1</td>\n",
       "      <td>0.024</td>\n",
       "    </tr>\n",
       "    <tr>\n",
       "      <th>1</th>\n",
       "      <td>1438</td>\n",
       "      <td>2018</td>\n",
       "      <td>115.2</td>\n",
       "      <td>85.6</td>\n",
       "      <td>0.048</td>\n",
       "    </tr>\n",
       "    <tr>\n",
       "      <th>2</th>\n",
       "      <td>1438</td>\n",
       "      <td>2017</td>\n",
       "      <td>112.2</td>\n",
       "      <td>88.0</td>\n",
       "      <td>-0.030</td>\n",
       "    </tr>\n",
       "    <tr>\n",
       "      <th>3</th>\n",
       "      <td>1438</td>\n",
       "      <td>2016</td>\n",
       "      <td>120.6</td>\n",
       "      <td>91.0</td>\n",
       "      <td>-0.040</td>\n",
       "    </tr>\n",
       "    <tr>\n",
       "      <th>4</th>\n",
       "      <td>1438</td>\n",
       "      <td>2015</td>\n",
       "      <td>115.6</td>\n",
       "      <td>85.5</td>\n",
       "      <td>0.023</td>\n",
       "    </tr>\n",
       "  </tbody>\n",
       "</table>\n",
       "</div>"
      ],
      "text/plain": [
       "   TeamID  year  ADJOE  ADJDE   Luck\n",
       "0    1438  2019  123.6   88.1  0.024\n",
       "1    1438  2018  115.2   85.6  0.048\n",
       "2    1438  2017  112.2   88.0 -0.030\n",
       "3    1438  2016  120.6   91.0 -0.040\n",
       "4    1438  2015  115.6   85.5  0.023"
      ]
     },
     "execution_count": 3,
     "metadata": {},
     "output_type": "execute_result"
    }
   ],
   "source": [
    "ken_pom = pd.read_csv('data/Final/final_kp_dat.csv')\n",
    "ken_pom.head()"
   ]
  },
  {
   "cell_type": "markdown",
   "metadata": {},
   "source": [
    "### Prepare Submission file \n",
    "\n",
    "To be a test dataset"
   ]
  },
  {
   "cell_type": "code",
   "execution_count": 4,
   "metadata": {},
   "outputs": [],
   "source": [
    "df_sub[['Season','low_seed','high_seed']] = df_sub['ID'].str.split('_',expand=True).astype(int)"
   ]
  },
  {
   "cell_type": "code",
   "execution_count": 5,
   "metadata": {},
   "outputs": [],
   "source": [
    "df_sub = pd.merge(df_sub,df_seed,how='inner',\n",
    "                 left_on=['Season','low_seed'],\n",
    "                 right_on=['Season','TeamID']).rename(columns={'Seed':'L_SEED'})\n",
    "df_sub = pd.merge(df_sub,df_seed,how='inner',\n",
    "                 left_on=['Season','high_seed'],\n",
    "                 right_on=['Season','TeamID']).rename(columns={'Seed':'W_SEED'})"
   ]
  },
  {
   "cell_type": "code",
   "execution_count": 6,
   "metadata": {},
   "outputs": [],
   "source": [
    "df_sub2 = df_sub.drop(['TeamID_x','TeamID_y'],axis=1)"
   ]
  },
  {
   "cell_type": "code",
   "execution_count": 7,
   "metadata": {},
   "outputs": [],
   "source": [
    "df_sub2 = pd.merge(df_sub2,ken_pom,how='inner',\n",
    "                   left_on=['Season','low_seed'],\n",
    "                   right_on = ['year','TeamID']).drop('TeamID',axis=1)\n",
    "df_sub2 = pd.merge(df_sub2,ken_pom,how='inner',\n",
    "                   left_on=['Season','high_seed'],\n",
    "                   right_on = ['year','TeamID'],suffixes=('_L','_W')).drop('TeamID',axis=1)"
   ]
  },
  {
   "cell_type": "code",
   "execution_count": 8,
   "metadata": {},
   "outputs": [],
   "source": [
    "df_sub2['Seed_Diff'] = df_sub2['L_SEED'] - df_sub2['W_SEED']\n",
    "df_sub2['ADJ_OE_Diff'] = df_sub2['ADJOE_L'] - df_sub2['ADJOE_W']\n",
    "df_sub2['ADJ_DE_Diff'] = df_sub2['ADJDE_L'] - df_sub2['ADJDE_W']\n",
    "df_sub2['Luck_Diff'] = df_sub2['Luck_L'] - df_sub2['Luck_W']"
   ]
  },
  {
   "cell_type": "code",
   "execution_count": 9,
   "metadata": {},
   "outputs": [],
   "source": [
    "df_test = df_sub2[['Seed_Diff','ADJ_OE_Diff','ADJ_DE_Diff','Luck_Diff']]"
   ]
  },
  {
   "cell_type": "code",
   "execution_count": 10,
   "metadata": {},
   "outputs": [
    {
     "data": {
      "text/html": [
       "<div>\n",
       "<style scoped>\n",
       "    .dataframe tbody tr th:only-of-type {\n",
       "        vertical-align: middle;\n",
       "    }\n",
       "\n",
       "    .dataframe tbody tr th {\n",
       "        vertical-align: top;\n",
       "    }\n",
       "\n",
       "    .dataframe thead th {\n",
       "        text-align: right;\n",
       "    }\n",
       "</style>\n",
       "<table border=\"1\" class=\"dataframe\">\n",
       "  <thead>\n",
       "    <tr style=\"text-align: right;\">\n",
       "      <th></th>\n",
       "      <th>Seed_Diff</th>\n",
       "      <th>ADJ_OE_Diff</th>\n",
       "      <th>ADJ_DE_Diff</th>\n",
       "      <th>Luck_Diff</th>\n",
       "    </tr>\n",
       "  </thead>\n",
       "  <tbody>\n",
       "    <tr>\n",
       "      <th>0</th>\n",
       "      <td>4</td>\n",
       "      <td>-6.2</td>\n",
       "      <td>3.0</td>\n",
       "      <td>0.041</td>\n",
       "    </tr>\n",
       "    <tr>\n",
       "      <th>1</th>\n",
       "      <td>10</td>\n",
       "      <td>-16.0</td>\n",
       "      <td>5.3</td>\n",
       "      <td>0.084</td>\n",
       "    </tr>\n",
       "    <tr>\n",
       "      <th>2</th>\n",
       "      <td>6</td>\n",
       "      <td>-9.8</td>\n",
       "      <td>2.3</td>\n",
       "      <td>0.043</td>\n",
       "    </tr>\n",
       "    <tr>\n",
       "      <th>3</th>\n",
       "      <td>6</td>\n",
       "      <td>-9.9</td>\n",
       "      <td>3.3</td>\n",
       "      <td>0.119</td>\n",
       "    </tr>\n",
       "    <tr>\n",
       "      <th>4</th>\n",
       "      <td>2</td>\n",
       "      <td>-3.7</td>\n",
       "      <td>0.3</td>\n",
       "      <td>0.078</td>\n",
       "    </tr>\n",
       "  </tbody>\n",
       "</table>\n",
       "</div>"
      ],
      "text/plain": [
       "   Seed_Diff  ADJ_OE_Diff  ADJ_DE_Diff  Luck_Diff\n",
       "0          4         -6.2          3.0      0.041\n",
       "1         10        -16.0          5.3      0.084\n",
       "2          6         -9.8          2.3      0.043\n",
       "3          6         -9.9          3.3      0.119\n",
       "4          2         -3.7          0.3      0.078"
      ]
     },
     "execution_count": 10,
     "metadata": {},
     "output_type": "execute_result"
    }
   ],
   "source": [
    "df_test.head()"
   ]
  },
  {
   "cell_type": "markdown",
   "metadata": {},
   "source": [
    "## Build Model"
   ]
  },
  {
   "cell_type": "code",
   "execution_count": 11,
   "metadata": {},
   "outputs": [],
   "source": [
    "from sklearn.linear_model import LogisticRegression\n",
    "from sklearn.utils import shuffle\n",
    "from sklearn.model_selection import RandomizedSearchCV\n",
    "import numpy as np"
   ]
  },
  {
   "cell_type": "code",
   "execution_count": 12,
   "metadata": {},
   "outputs": [],
   "source": [
    "df_train = pd.read_csv('data/Final/data_kp_seed.csv')"
   ]
  },
  {
   "cell_type": "code",
   "execution_count": 13,
   "metadata": {},
   "outputs": [],
   "source": [
    "y = df_train['result'].values"
   ]
  },
  {
   "cell_type": "code",
   "execution_count": 14,
   "metadata": {},
   "outputs": [],
   "source": [
    "X = df_train.drop('result',axis=1)"
   ]
  },
  {
   "cell_type": "code",
   "execution_count": 15,
   "metadata": {},
   "outputs": [],
   "source": [
    "X = X.fillna(0)"
   ]
  },
  {
   "cell_type": "code",
   "execution_count": 16,
   "metadata": {},
   "outputs": [
    {
     "name": "stderr",
     "output_type": "stream",
     "text": [
      "/Users/meyappansubbaiah/Documents/Github/March_Madness_KG/.env/lib/python3.7/site-packages/sklearn/model_selection/_split.py:2053: FutureWarning: You should specify a value for 'cv' instead of relying on the default value. The default value will change from 3 to 5 in version 0.22.\n",
      "  warnings.warn(CV_WARNING, FutureWarning)\n"
     ]
    },
    {
     "name": "stdout",
     "output_type": "stream",
     "text": [
      "Best log_loss: -0.4708, with best C: 10.0\n"
     ]
    }
   ],
   "source": [
    "logreg = LogisticRegression(solver='lbfgs')\n",
    "params = {'tol':np.arange(0.0, 0.5, 0.01),'C': np.logspace(start=-5, stop=3, num=9)}\n",
    "clf = RandomizedSearchCV(logreg, params, scoring='neg_log_loss', refit=True)\n",
    "clf.fit(X, y)\n",
    "print('Best log_loss: {:.4}, with best C: {}'.format(clf.best_score_, clf.best_params_['C']))"
   ]
  },
  {
   "cell_type": "code",
   "execution_count": 17,
   "metadata": {},
   "outputs": [
    {
     "data": {
      "text/plain": [
       "{'tol': 0.11, 'C': 10.0}"
      ]
     },
     "execution_count": 17,
     "metadata": {},
     "output_type": "execute_result"
    }
   ],
   "source": [
    "clf.best_params_"
   ]
  },
  {
   "cell_type": "code",
   "execution_count": 18,
   "metadata": {},
   "outputs": [],
   "source": [
    "final_reg = LogisticRegression(**clf.best_params_)"
   ]
  },
  {
   "cell_type": "code",
   "execution_count": 19,
   "metadata": {},
   "outputs": [
    {
     "name": "stderr",
     "output_type": "stream",
     "text": [
      "/Users/meyappansubbaiah/Documents/Github/March_Madness_KG/.env/lib/python3.7/site-packages/sklearn/linear_model/logistic.py:433: FutureWarning: Default solver will be changed to 'lbfgs' in 0.22. Specify a solver to silence this warning.\n",
      "  FutureWarning)\n"
     ]
    },
    {
     "data": {
      "text/plain": [
       "LogisticRegression(C=10.0, class_weight=None, dual=False, fit_intercept=True,\n",
       "          intercept_scaling=1, max_iter=100, multi_class='warn',\n",
       "          n_jobs=None, penalty='l2', random_state=None, solver='warn',\n",
       "          tol=0.11, verbose=0, warm_start=False)"
      ]
     },
     "execution_count": 19,
     "metadata": {},
     "output_type": "execute_result"
    }
   ],
   "source": [
    "final_reg.fit(X,y)"
   ]
  },
  {
   "cell_type": "code",
   "execution_count": 20,
   "metadata": {},
   "outputs": [],
   "source": [
    "df_final_sub = pd.read_csv('data/SampleSubmissionStage2.csv')"
   ]
  },
  {
   "cell_type": "code",
   "execution_count": 21,
   "metadata": {},
   "outputs": [],
   "source": [
    "clipped_preds = np.clip(final_reg.predict_proba(df_test)[:,1], 0.05, 0.95)"
   ]
  },
  {
   "cell_type": "code",
   "execution_count": 22,
   "metadata": {},
   "outputs": [],
   "source": [
    "df_final_sub['Pred'] = clipped_preds"
   ]
  },
  {
   "cell_type": "code",
   "execution_count": 23,
   "metadata": {},
   "outputs": [],
   "source": [
    "%matplotlib inline"
   ]
  },
  {
   "cell_type": "code",
   "execution_count": 24,
   "metadata": {},
   "outputs": [
    {
     "data": {
      "text/plain": [
       "<matplotlib.axes._subplots.AxesSubplot at 0x119b31eb8>"
      ]
     },
     "execution_count": 24,
     "metadata": {},
     "output_type": "execute_result"
    },
    {
     "data": {
      "image/png": "[encoded data removed]",
      "text/plain": [
       "<Figure size 432x288 with 1 Axes>"
      ]
     },
     "metadata": {
      "needs_background": "light"
     },
     "output_type": "display_data"
    }
   ],
   "source": [
    "df_final_sub['Pred'].hist()"
   ]
  },
  {
   "cell_type": "code",
   "execution_count": 25,
   "metadata": {},
   "outputs": [],
   "source": [
    "df_final_sub.to_csv('data/Final/Results/logreg_seed_diff.csv',index=False)"
   ]
  },
  {
   "cell_type": "code",
   "execution_count": 26,
   "metadata": {},
   "outputs": [
    {
     "data": {
      "text/html": [
       "<div>\n",
       "<style scoped>\n",
       "    .dataframe tbody tr th:only-of-type {\n",
       "        vertical-align: middle;\n",
       "    }\n",
       "\n",
       "    .dataframe tbody tr th {\n",
       "        vertical-align: top;\n",
       "    }\n",
       "\n",
       "    .dataframe thead th {\n",
       "        text-align: right;\n",
       "    }\n",
       "</style>\n",
       "<table border=\"1\" class=\"dataframe\">\n",
       "  <thead>\n",
       "    <tr style=\"text-align: right;\">\n",
       "      <th></th>\n",
       "      <th>ID</th>\n",
       "      <th>Pred</th>\n",
       "    </tr>\n",
       "  </thead>\n",
       "  <tbody>\n",
       "    <tr>\n",
       "      <th>0</th>\n",
       "      <td>2019_1101_1113</td>\n",
       "      <td>0.185865</td>\n",
       "    </tr>\n",
       "    <tr>\n",
       "      <th>1</th>\n",
       "      <td>2019_1101_1120</td>\n",
       "      <td>0.050000</td>\n",
       "    </tr>\n",
       "    <tr>\n",
       "      <th>2</th>\n",
       "      <td>2019_1101_1124</td>\n",
       "      <td>0.134837</td>\n",
       "    </tr>\n",
       "    <tr>\n",
       "      <th>3</th>\n",
       "      <td>2019_1101_1125</td>\n",
       "      <td>0.111836</td>\n",
       "    </tr>\n",
       "    <tr>\n",
       "      <th>4</th>\n",
       "      <td>2019_1101_1133</td>\n",
       "      <td>0.350770</td>\n",
       "    </tr>\n",
       "    <tr>\n",
       "      <th>5</th>\n",
       "      <td>2019_1101_1138</td>\n",
       "      <td>0.772513</td>\n",
       "    </tr>\n",
       "    <tr>\n",
       "      <th>6</th>\n",
       "      <td>2019_1101_1153</td>\n",
       "      <td>0.139108</td>\n",
       "    </tr>\n",
       "    <tr>\n",
       "      <th>7</th>\n",
       "      <td>2019_1101_1159</td>\n",
       "      <td>0.409446</td>\n",
       "    </tr>\n",
       "    <tr>\n",
       "      <th>8</th>\n",
       "      <td>2019_1101_1181</td>\n",
       "      <td>0.813354</td>\n",
       "    </tr>\n",
       "    <tr>\n",
       "      <th>9</th>\n",
       "      <td>2019_1101_1192</td>\n",
       "      <td>0.556942</td>\n",
       "    </tr>\n",
       "    <tr>\n",
       "      <th>10</th>\n",
       "      <td>2019_1101_1196</td>\n",
       "      <td>0.599741</td>\n",
       "    </tr>\n",
       "    <tr>\n",
       "      <th>11</th>\n",
       "      <td>2019_1101_1199</td>\n",
       "      <td>0.865396</td>\n",
       "    </tr>\n",
       "    <tr>\n",
       "      <th>12</th>\n",
       "      <td>2019_1101_1205</td>\n",
       "      <td>0.950000</td>\n",
       "    </tr>\n",
       "    <tr>\n",
       "      <th>13</th>\n",
       "      <td>2019_1101_1209</td>\n",
       "      <td>0.920990</td>\n",
       "    </tr>\n",
       "    <tr>\n",
       "      <th>14</th>\n",
       "      <td>2019_1101_1211</td>\n",
       "      <td>0.900829</td>\n",
       "    </tr>\n",
       "    <tr>\n",
       "      <th>15</th>\n",
       "      <td>2019_1101_1222</td>\n",
       "      <td>0.052564</td>\n",
       "    </tr>\n",
       "    <tr>\n",
       "      <th>16</th>\n",
       "      <td>2019_1101_1233</td>\n",
       "      <td>0.192280</td>\n",
       "    </tr>\n",
       "    <tr>\n",
       "      <th>17</th>\n",
       "      <td>2019_1101_1234</td>\n",
       "      <td>0.599396</td>\n",
       "    </tr>\n",
       "    <tr>\n",
       "      <th>18</th>\n",
       "      <td>2019_1101_1235</td>\n",
       "      <td>0.301483</td>\n",
       "    </tr>\n",
       "    <tr>\n",
       "      <th>19</th>\n",
       "      <td>2019_1101_1242</td>\n",
       "      <td>0.251685</td>\n",
       "    </tr>\n",
       "    <tr>\n",
       "      <th>20</th>\n",
       "      <td>2019_1101_1243</td>\n",
       "      <td>0.050000</td>\n",
       "    </tr>\n",
       "    <tr>\n",
       "      <th>21</th>\n",
       "      <td>2019_1101_1246</td>\n",
       "      <td>0.085148</td>\n",
       "    </tr>\n",
       "    <tr>\n",
       "      <th>22</th>\n",
       "      <td>2019_1101_1251</td>\n",
       "      <td>0.285384</td>\n",
       "    </tr>\n",
       "    <tr>\n",
       "      <th>23</th>\n",
       "      <td>2019_1101_1257</td>\n",
       "      <td>0.715104</td>\n",
       "    </tr>\n",
       "    <tr>\n",
       "      <th>24</th>\n",
       "      <td>2019_1101_1261</td>\n",
       "      <td>0.419971</td>\n",
       "    </tr>\n",
       "    <tr>\n",
       "      <th>25</th>\n",
       "      <td>2019_1101_1266</td>\n",
       "      <td>0.360708</td>\n",
       "    </tr>\n",
       "    <tr>\n",
       "      <th>26</th>\n",
       "      <td>2019_1101_1268</td>\n",
       "      <td>0.057357</td>\n",
       "    </tr>\n",
       "    <tr>\n",
       "      <th>27</th>\n",
       "      <td>2019_1101_1276</td>\n",
       "      <td>0.621687</td>\n",
       "    </tr>\n",
       "    <tr>\n",
       "      <th>28</th>\n",
       "      <td>2019_1101_1277</td>\n",
       "      <td>0.426946</td>\n",
       "    </tr>\n",
       "    <tr>\n",
       "      <th>29</th>\n",
       "      <td>2019_1101_1278</td>\n",
       "      <td>0.761721</td>\n",
       "    </tr>\n",
       "    <tr>\n",
       "      <th>...</th>\n",
       "      <td>...</td>\n",
       "      <td>...</td>\n",
       "    </tr>\n",
       "    <tr>\n",
       "      <th>2248</th>\n",
       "      <td>2019_1433_1459</td>\n",
       "      <td>0.050000</td>\n",
       "    </tr>\n",
       "    <tr>\n",
       "      <th>2249</th>\n",
       "      <td>2019_1433_1463</td>\n",
       "      <td>0.834382</td>\n",
       "    </tr>\n",
       "    <tr>\n",
       "      <th>2250</th>\n",
       "      <td>2019_1436_1437</td>\n",
       "      <td>0.702251</td>\n",
       "    </tr>\n",
       "    <tr>\n",
       "      <th>2251</th>\n",
       "      <td>2019_1436_1438</td>\n",
       "      <td>0.950000</td>\n",
       "    </tr>\n",
       "    <tr>\n",
       "      <th>2252</th>\n",
       "      <td>2019_1436_1439</td>\n",
       "      <td>0.493436</td>\n",
       "    </tr>\n",
       "    <tr>\n",
       "      <th>2253</th>\n",
       "      <td>2019_1436_1449</td>\n",
       "      <td>0.762675</td>\n",
       "    </tr>\n",
       "    <tr>\n",
       "      <th>2254</th>\n",
       "      <td>2019_1436_1458</td>\n",
       "      <td>0.761629</td>\n",
       "    </tr>\n",
       "    <tr>\n",
       "      <th>2255</th>\n",
       "      <td>2019_1436_1459</td>\n",
       "      <td>0.413201</td>\n",
       "    </tr>\n",
       "    <tr>\n",
       "      <th>2256</th>\n",
       "      <td>2019_1436_1463</td>\n",
       "      <td>0.784687</td>\n",
       "    </tr>\n",
       "    <tr>\n",
       "      <th>2257</th>\n",
       "      <td>2019_1437_1438</td>\n",
       "      <td>0.093719</td>\n",
       "    </tr>\n",
       "    <tr>\n",
       "      <th>2258</th>\n",
       "      <td>2019_1437_1439</td>\n",
       "      <td>0.933437</td>\n",
       "    </tr>\n",
       "    <tr>\n",
       "      <th>2259</th>\n",
       "      <td>2019_1437_1449</td>\n",
       "      <td>0.660532</td>\n",
       "    </tr>\n",
       "    <tr>\n",
       "      <th>2260</th>\n",
       "      <td>2019_1437_1458</td>\n",
       "      <td>0.474936</td>\n",
       "    </tr>\n",
       "    <tr>\n",
       "      <th>2261</th>\n",
       "      <td>2019_1437_1459</td>\n",
       "      <td>0.422006</td>\n",
       "    </tr>\n",
       "    <tr>\n",
       "      <th>2262</th>\n",
       "      <td>2019_1437_1463</td>\n",
       "      <td>0.824143</td>\n",
       "    </tr>\n",
       "    <tr>\n",
       "      <th>2263</th>\n",
       "      <td>2019_1438_1439</td>\n",
       "      <td>0.774186</td>\n",
       "    </tr>\n",
       "    <tr>\n",
       "      <th>2264</th>\n",
       "      <td>2019_1438_1449</td>\n",
       "      <td>0.501370</td>\n",
       "    </tr>\n",
       "    <tr>\n",
       "      <th>2265</th>\n",
       "      <td>2019_1438_1458</td>\n",
       "      <td>0.939964</td>\n",
       "    </tr>\n",
       "    <tr>\n",
       "      <th>2266</th>\n",
       "      <td>2019_1438_1459</td>\n",
       "      <td>0.950000</td>\n",
       "    </tr>\n",
       "    <tr>\n",
       "      <th>2267</th>\n",
       "      <td>2019_1438_1463</td>\n",
       "      <td>0.562261</td>\n",
       "    </tr>\n",
       "    <tr>\n",
       "      <th>2268</th>\n",
       "      <td>2019_1439_1449</td>\n",
       "      <td>0.727025</td>\n",
       "    </tr>\n",
       "    <tr>\n",
       "      <th>2269</th>\n",
       "      <td>2019_1439_1458</td>\n",
       "      <td>0.775818</td>\n",
       "    </tr>\n",
       "    <tr>\n",
       "      <th>2270</th>\n",
       "      <td>2019_1439_1459</td>\n",
       "      <td>0.779052</td>\n",
       "    </tr>\n",
       "    <tr>\n",
       "      <th>2271</th>\n",
       "      <td>2019_1439_1463</td>\n",
       "      <td>0.515145</td>\n",
       "    </tr>\n",
       "    <tr>\n",
       "      <th>2272</th>\n",
       "      <td>2019_1449_1458</td>\n",
       "      <td>0.805222</td>\n",
       "    </tr>\n",
       "    <tr>\n",
       "      <th>2273</th>\n",
       "      <td>2019_1449_1459</td>\n",
       "      <td>0.950000</td>\n",
       "    </tr>\n",
       "    <tr>\n",
       "      <th>2274</th>\n",
       "      <td>2019_1449_1463</td>\n",
       "      <td>0.919845</td>\n",
       "    </tr>\n",
       "    <tr>\n",
       "      <th>2275</th>\n",
       "      <td>2019_1458_1459</td>\n",
       "      <td>0.688108</td>\n",
       "    </tr>\n",
       "    <tr>\n",
       "      <th>2276</th>\n",
       "      <td>2019_1458_1463</td>\n",
       "      <td>0.925567</td>\n",
       "    </tr>\n",
       "    <tr>\n",
       "      <th>2277</th>\n",
       "      <td>2019_1459_1463</td>\n",
       "      <td>0.867819</td>\n",
       "    </tr>\n",
       "  </tbody>\n",
       "</table>\n",
       "<p>2278 rows × 2 columns</p>\n",
       "</div>"
      ],
      "text/plain": [
       "                  ID      Pred\n",
       "0     2019_1101_1113  0.185865\n",
       "1     2019_1101_1120  0.050000\n",
       "2     2019_1101_1124  0.134837\n",
       "3     2019_1101_1125  0.111836\n",
       "4     2019_1101_1133  0.350770\n",
       "5     2019_1101_1138  0.772513\n",
       "6     2019_1101_1153  0.139108\n",
       "7     2019_1101_1159  0.409446\n",
       "8     2019_1101_1181  0.813354\n",
       "9     2019_1101_1192  0.556942\n",
       "10    2019_1101_1196  0.599741\n",
       "11    2019_1101_1199  0.865396\n",
       "12    2019_1101_1205  0.950000\n",
       "13    2019_1101_1209  0.920990\n",
       "14    2019_1101_1211  0.900829\n",
       "15    2019_1101_1222  0.052564\n",
       "16    2019_1101_1233  0.192280\n",
       "17    2019_1101_1234  0.599396\n",
       "18    2019_1101_1235  0.301483\n",
       "19    2019_1101_1242  0.251685\n",
       "20    2019_1101_1243  0.050000\n",
       "21    2019_1101_1246  0.085148\n",
       "22    2019_1101_1251  0.285384\n",
       "23    2019_1101_1257  0.715104\n",
       "24    2019_1101_1261  0.419971\n",
       "25    2019_1101_1266  0.360708\n",
       "26    2019_1101_1268  0.057357\n",
       "27    2019_1101_1276  0.621687\n",
       "28    2019_1101_1277  0.426946\n",
       "29    2019_1101_1278  0.761721\n",
       "...              ...       ...\n",
       "2248  2019_1433_1459  0.050000\n",
       "2249  2019_1433_1463  0.834382\n",
       "2250  2019_1436_1437  0.702251\n",
       "2251  2019_1436_1438  0.950000\n",
       "2252  2019_1436_1439  0.493436\n",
       "2253  2019_1436_1449  0.762675\n",
       "2254  2019_1436_1458  0.761629\n",
       "2255  2019_1436_1459  0.413201\n",
       "2256  2019_1436_1463  0.784687\n",
       "2257  2019_1437_1438  0.093719\n",
       "2258  2019_1437_1439  0.933437\n",
       "2259  2019_1437_1449  0.660532\n",
       "2260  2019_1437_1458  0.474936\n",
       "2261  2019_1437_1459  0.422006\n",
       "2262  2019_1437_1463  0.824143\n",
       "2263  2019_1438_1439  0.774186\n",
       "2264  2019_1438_1449  0.501370\n",
       "2265  2019_1438_1458  0.939964\n",
       "2266  2019_1438_1459  0.950000\n",
       "2267  2019_1438_1463  0.562261\n",
       "2268  2019_1439_1449  0.727025\n",
       "2269  2019_1439_1458  0.775818\n",
       "2270  2019_1439_1459  0.779052\n",
       "2271  2019_1439_1463  0.515145\n",
       "2272  2019_1449_1458  0.805222\n",
       "2273  2019_1449_1459  0.950000\n",
       "2274  2019_1449_1463  0.919845\n",
       "2275  2019_1458_1459  0.688108\n",
       "2276  2019_1458_1463  0.925567\n",
       "2277  2019_1459_1463  0.867819\n",
       "\n",
       "[2278 rows x 2 columns]"
      ]
     },
     "execution_count": 26,
     "metadata": {},
     "output_type": "execute_result"
    }
   ],
   "source": [
    "df_final_sub"
   ]
  },
  {
   "cell_type": "code",
   "execution_count": null,
   "metadata": {},
   "outputs": [],
   "source": []
  }
 ],
 "metadata": {
  "kernelspec": {
   "display_name": "march_madness",
   "language": "python",
   "name": "march_madness"
  },
  "language_info": {
   "codemirror_mode": {
    "name": "ipython",
    "version": 3
   },
   "file_extension": ".py",
   "mimetype": "text/x-python",
   "name": "python",
   "nbconvert_exporter": "python",
   "pygments_lexer": "ipython3",
   "version": "3.7.0"
  }
 },
 "nbformat": 4,
 "nbformat_minor": 2
}
