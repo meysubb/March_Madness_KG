{
 "cells": [
  {
   "cell_type": "code",
   "execution_count": 1,
   "metadata": {},
   "outputs": [],
   "source": [
    "import pandas as pd"
   ]
  },
  {
   "cell_type": "code",
   "execution_count": 2,
   "metadata": {},
   "outputs": [],
   "source": [
    "df_sub = pd.read_csv('data/SampleSubmissionStage1.csv')\n",
    "df_kp = pd.read_csv('data/Final/final_raw_kp_dat.csv')\n",
    "df_seed = pd.read_csv('data/Final/final_raw_seeds.csv')"
   ]
  },
  {
   "cell_type": "markdown",
   "metadata": {},
   "source": [
    "### Prepare Submission file \n",
    "\n",
    "To be a test dataset"
   ]
  },
  {
   "cell_type": "code",
   "execution_count": 3,
   "metadata": {},
   "outputs": [],
   "source": [
    "df_sub[['Season','low_seed','high_seed']] = df_sub['ID'].str.split('_',expand=True).astype(int)"
   ]
  },
  {
   "cell_type": "code",
   "execution_count": 4,
   "metadata": {},
   "outputs": [],
   "source": [
    "df_sub = pd.merge(df_sub,df_kp,how='inner',\n",
    "                 left_on=['Season','low_seed'],\n",
    "                 right_on=['Season','TeamID']).rename(columns={'OrdinalRank':'WKP'})\n",
    "df_sub = pd.merge(df_sub,df_kp,how='inner',\n",
    "                 left_on=['Season','high_seed'],\n",
    "                 right_on=['Season','TeamID']).rename(columns={'OrdinalRank':'LKP'})"
   ]
  },
  {
   "cell_type": "code",
   "execution_count": 5,
   "metadata": {},
   "outputs": [],
   "source": [
    "df_sub2 = pd.merge(df_sub,df_seed,how='inner',\n",
    "                  left_on=['Season','low_seed'],\n",
    "                  right_on=['Season','TeamID']).rename(columns={\"Seed\": \"W_SEED\"})\n",
    "df_sub2 = pd.merge(df_sub2,df_seed,how='inner',\n",
    "                  left_on=['Season','high_seed'],\n",
    "                  right_on=['Season','TeamID']).rename(columns={\"Seed\": \"L_SEED\"})"
   ]
  },
  {
   "cell_type": "code",
   "execution_count": 6,
   "metadata": {},
   "outputs": [],
   "source": [
    "df_sub2 = df_sub2.drop(['TeamID_x','TeamID_y'],axis=1)"
   ]
  },
  {
   "cell_type": "code",
   "execution_count": 7,
   "metadata": {},
   "outputs": [],
   "source": [
    "df_test = df_sub2[['WKP','LKP','W_SEED','L_SEED']]"
   ]
  },
  {
   "cell_type": "code",
   "execution_count": 8,
   "metadata": {},
   "outputs": [
    {
     "name": "stderr",
     "output_type": "stream",
     "text": [
      "/Users/meyappansubbaiah/Documents/Github/March_Madness_KG/.env/lib/python3.7/site-packages/ipykernel_launcher.py:1: SettingWithCopyWarning: \n",
      "A value is trying to be set on a copy of a slice from a DataFrame.\n",
      "Try using .loc[row_indexer,col_indexer] = value instead\n",
      "\n",
      "See the caveats in the documentation: http://pandas.pydata.org/pandas-docs/stable/indexing.html#indexing-view-versus-copy\n",
      "  \"\"\"Entry point for launching an IPython kernel.\n",
      "/Users/meyappansubbaiah/Documents/Github/March_Madness_KG/.env/lib/python3.7/site-packages/ipykernel_launcher.py:2: SettingWithCopyWarning: \n",
      "A value is trying to be set on a copy of a slice from a DataFrame.\n",
      "Try using .loc[row_indexer,col_indexer] = value instead\n",
      "\n",
      "See the caveats in the documentation: http://pandas.pydata.org/pandas-docs/stable/indexing.html#indexing-view-versus-copy\n",
      "  \n"
     ]
    }
   ],
   "source": [
    "df_test['Seed_Diff'] = df_test['W_SEED'] - df_test['L_SEED']\n",
    "df_test['KP_Diff'] = df_test['WKP'] - df_test['LKP']"
   ]
  },
  {
   "cell_type": "code",
   "execution_count": 9,
   "metadata": {},
   "outputs": [],
   "source": [
    "df_test_final = df_test[['Seed_Diff','KP_Diff']]"
   ]
  },
  {
   "cell_type": "markdown",
   "metadata": {},
   "source": [
    "## Build Model"
   ]
  },
  {
   "cell_type": "code",
   "execution_count": 10,
   "metadata": {},
   "outputs": [],
   "source": [
    "from sklearn.linear_model import LogisticRegression\n",
    "from sklearn.utils import shuffle\n",
    "from sklearn.model_selection import GridSearchCV\n",
    "import numpy as np"
   ]
  },
  {
   "cell_type": "code",
   "execution_count": 11,
   "metadata": {},
   "outputs": [],
   "source": [
    "df_train = pd.read_csv('data/Final/data_kp_seed.csv')"
   ]
  },
  {
   "cell_type": "code",
   "execution_count": 12,
   "metadata": {},
   "outputs": [],
   "source": [
    "y = df_train['result'].values"
   ]
  },
  {
   "cell_type": "code",
   "execution_count": 13,
   "metadata": {},
   "outputs": [],
   "source": [
    "X = df_train.drop('result',axis=1)"
   ]
  },
  {
   "cell_type": "code",
   "execution_count": 14,
   "metadata": {},
   "outputs": [
    {
     "name": "stderr",
     "output_type": "stream",
     "text": [
      "/Users/meyappansubbaiah/Documents/Github/March_Madness_KG/.env/lib/python3.7/site-packages/sklearn/model_selection/_split.py:2053: FutureWarning: You should specify a value for 'cv' instead of relying on the default value. The default value will change from 3 to 5 in version 0.22.\n",
      "  warnings.warn(CV_WARNING, FutureWarning)\n"
     ]
    },
    {
     "name": "stdout",
     "output_type": "stream",
     "text": [
      "Best log_loss: -0.5534, with best C: 0.01\n"
     ]
    }
   ],
   "source": [
    "logreg = LogisticRegression(solver='lbfgs')\n",
    "params = {'C': np.logspace(start=-5, stop=3, num=9)}\n",
    "clf = GridSearchCV(logreg, params, scoring='neg_log_loss', refit=True)\n",
    "clf.fit(X, y)\n",
    "print('Best log_loss: {:.4}, with best C: {}'.format(clf.best_score_, clf.best_params_['C']))"
   ]
  },
  {
   "cell_type": "code",
   "execution_count": 15,
   "metadata": {},
   "outputs": [],
   "source": [
    "final_reg = LogisticRegression(**clf.best_params_)"
   ]
  },
  {
   "cell_type": "code",
   "execution_count": 16,
   "metadata": {},
   "outputs": [
    {
     "name": "stderr",
     "output_type": "stream",
     "text": [
      "/Users/meyappansubbaiah/Documents/Github/March_Madness_KG/.env/lib/python3.7/site-packages/sklearn/linear_model/logistic.py:433: FutureWarning: Default solver will be changed to 'lbfgs' in 0.22. Specify a solver to silence this warning.\n",
      "  FutureWarning)\n"
     ]
    },
    {
     "data": {
      "text/plain": [
       "LogisticRegression(C=0.01, class_weight=None, dual=False, fit_intercept=True,\n",
       "          intercept_scaling=1, max_iter=100, multi_class='warn',\n",
       "          n_jobs=None, penalty='l2', random_state=None, solver='warn',\n",
       "          tol=0.0001, verbose=0, warm_start=False)"
      ]
     },
     "execution_count": 16,
     "metadata": {},
     "output_type": "execute_result"
    }
   ],
   "source": [
    "final_reg.fit(X,y)"
   ]
  },
  {
   "cell_type": "code",
   "execution_count": 17,
   "metadata": {},
   "outputs": [],
   "source": [
    "df_final_sub = pd.read_csv('data/SampleSubmissionStage1.csv')"
   ]
  },
  {
   "cell_type": "code",
   "execution_count": 18,
   "metadata": {},
   "outputs": [],
   "source": [
    "clipped_preds = np.clip(final_reg.predict_proba(df_test_final)[:,1], 0.05, 0.95)"
   ]
  },
  {
   "cell_type": "code",
   "execution_count": 19,
   "metadata": {},
   "outputs": [],
   "source": [
    "df_final_sub['Pred'] = clipped_preds"
   ]
  },
  {
   "cell_type": "code",
   "execution_count": 20,
   "metadata": {},
   "outputs": [],
   "source": [
    "df_final_sub.to_csv('data/Final/Results/logreg_kp_seed.csv',index=False)"
   ]
  },
  {
   "cell_type": "code",
   "execution_count": 21,
   "metadata": {},
   "outputs": [
    {
     "data": {
      "text/html": [
       "<div>\n",
       "<style scoped>\n",
       "    .dataframe tbody tr th:only-of-type {\n",
       "        vertical-align: middle;\n",
       "    }\n",
       "\n",
       "    .dataframe tbody tr th {\n",
       "        vertical-align: top;\n",
       "    }\n",
       "\n",
       "    .dataframe thead th {\n",
       "        text-align: right;\n",
       "    }\n",
       "</style>\n",
       "<table border=\"1\" class=\"dataframe\">\n",
       "  <thead>\n",
       "    <tr style=\"text-align: right;\">\n",
       "      <th></th>\n",
       "      <th>ID</th>\n",
       "      <th>Pred</th>\n",
       "    </tr>\n",
       "  </thead>\n",
       "  <tbody>\n",
       "    <tr>\n",
       "      <th>0</th>\n",
       "      <td>2014_1107_1110</td>\n",
       "      <td>0.457538</td>\n",
       "    </tr>\n",
       "    <tr>\n",
       "      <th>1</th>\n",
       "      <td>2014_1107_1112</td>\n",
       "      <td>0.072169</td>\n",
       "    </tr>\n",
       "    <tr>\n",
       "      <th>2</th>\n",
       "      <td>2014_1107_1113</td>\n",
       "      <td>0.084433</td>\n",
       "    </tr>\n",
       "    <tr>\n",
       "      <th>3</th>\n",
       "      <td>2014_1107_1124</td>\n",
       "      <td>0.264728</td>\n",
       "    </tr>\n",
       "    <tr>\n",
       "      <th>4</th>\n",
       "      <td>2014_1107_1140</td>\n",
       "      <td>0.299164</td>\n",
       "    </tr>\n",
       "    <tr>\n",
       "      <th>5</th>\n",
       "      <td>2014_1107_1142</td>\n",
       "      <td>0.822343</td>\n",
       "    </tr>\n",
       "    <tr>\n",
       "      <th>6</th>\n",
       "      <td>2014_1107_1153</td>\n",
       "      <td>0.154131</td>\n",
       "    </tr>\n",
       "    <tr>\n",
       "      <th>7</th>\n",
       "      <td>2014_1107_1157</td>\n",
       "      <td>0.177657</td>\n",
       "    </tr>\n",
       "    <tr>\n",
       "      <th>8</th>\n",
       "      <td>2014_1107_1160</td>\n",
       "      <td>0.700836</td>\n",
       "    </tr>\n",
       "    <tr>\n",
       "      <th>9</th>\n",
       "      <td>2014_1107_1163</td>\n",
       "      <td>0.336033</td>\n",
       "    </tr>\n",
       "    <tr>\n",
       "      <th>10</th>\n",
       "      <td>2014_1107_1166</td>\n",
       "      <td>0.264728</td>\n",
       "    </tr>\n",
       "    <tr>\n",
       "      <th>11</th>\n",
       "      <td>2014_1107_1173</td>\n",
       "      <td>0.299164</td>\n",
       "    </tr>\n",
       "    <tr>\n",
       "      <th>12</th>\n",
       "      <td>2014_1107_1174</td>\n",
       "      <td>0.822343</td>\n",
       "    </tr>\n",
       "    <tr>\n",
       "      <th>13</th>\n",
       "      <td>2014_1107_1181</td>\n",
       "      <td>0.500000</td>\n",
       "    </tr>\n",
       "    <tr>\n",
       "      <th>14</th>\n",
       "      <td>2014_1107_1184</td>\n",
       "      <td>0.663967</td>\n",
       "    </tr>\n",
       "    <tr>\n",
       "      <th>15</th>\n",
       "      <td>2014_1107_1196</td>\n",
       "      <td>0.500000</td>\n",
       "    </tr>\n",
       "    <tr>\n",
       "      <th>16</th>\n",
       "      <td>2014_1107_1203</td>\n",
       "      <td>0.542462</td>\n",
       "    </tr>\n",
       "    <tr>\n",
       "      <th>17</th>\n",
       "      <td>2014_1107_1211</td>\n",
       "      <td>0.927831</td>\n",
       "    </tr>\n",
       "    <tr>\n",
       "      <th>18</th>\n",
       "      <td>2014_1107_1217</td>\n",
       "      <td>0.735272</td>\n",
       "    </tr>\n",
       "    <tr>\n",
       "      <th>19</th>\n",
       "      <td>2014_1107_1234</td>\n",
       "      <td>0.845869</td>\n",
       "    </tr>\n",
       "    <tr>\n",
       "      <th>20</th>\n",
       "      <td>2014_1107_1235</td>\n",
       "      <td>0.735272</td>\n",
       "    </tr>\n",
       "    <tr>\n",
       "      <th>21</th>\n",
       "      <td>2014_1107_1242</td>\n",
       "      <td>0.133216</td>\n",
       "    </tr>\n",
       "    <tr>\n",
       "      <th>22</th>\n",
       "      <td>2014_1107_1243</td>\n",
       "      <td>0.154131</td>\n",
       "    </tr>\n",
       "    <tr>\n",
       "      <th>23</th>\n",
       "      <td>2014_1107_1246</td>\n",
       "      <td>0.663967</td>\n",
       "    </tr>\n",
       "    <tr>\n",
       "      <th>24</th>\n",
       "      <td>2014_1107_1257</td>\n",
       "      <td>0.299164</td>\n",
       "    </tr>\n",
       "    <tr>\n",
       "      <th>25</th>\n",
       "      <td>2014_1107_1264</td>\n",
       "      <td>0.457538</td>\n",
       "    </tr>\n",
       "    <tr>\n",
       "      <th>26</th>\n",
       "      <td>2014_1107_1269</td>\n",
       "      <td>0.299164</td>\n",
       "    </tr>\n",
       "    <tr>\n",
       "      <th>27</th>\n",
       "      <td>2014_1107_1272</td>\n",
       "      <td>0.133216</td>\n",
       "    </tr>\n",
       "    <tr>\n",
       "      <th>28</th>\n",
       "      <td>2014_1107_1273</td>\n",
       "      <td>0.500000</td>\n",
       "    </tr>\n",
       "    <tr>\n",
       "      <th>29</th>\n",
       "      <td>2014_1107_1276</td>\n",
       "      <td>0.542462</td>\n",
       "    </tr>\n",
       "    <tr>\n",
       "      <th>...</th>\n",
       "      <td>...</td>\n",
       "      <td>...</td>\n",
       "    </tr>\n",
       "    <tr>\n",
       "      <th>11360</th>\n",
       "      <td>2018_1420_1460</td>\n",
       "      <td>0.133216</td>\n",
       "    </tr>\n",
       "    <tr>\n",
       "      <th>11361</th>\n",
       "      <td>2018_1420_1462</td>\n",
       "      <td>0.457538</td>\n",
       "    </tr>\n",
       "    <tr>\n",
       "      <th>11362</th>\n",
       "      <td>2018_1422_1437</td>\n",
       "      <td>0.336033</td>\n",
       "    </tr>\n",
       "    <tr>\n",
       "      <th>11363</th>\n",
       "      <td>2018_1422_1438</td>\n",
       "      <td>0.177657</td>\n",
       "    </tr>\n",
       "    <tr>\n",
       "      <th>11364</th>\n",
       "      <td>2018_1422_1439</td>\n",
       "      <td>0.072169</td>\n",
       "    </tr>\n",
       "    <tr>\n",
       "      <th>11365</th>\n",
       "      <td>2018_1422_1452</td>\n",
       "      <td>0.177657</td>\n",
       "    </tr>\n",
       "    <tr>\n",
       "      <th>11366</th>\n",
       "      <td>2018_1422_1455</td>\n",
       "      <td>0.457538</td>\n",
       "    </tr>\n",
       "    <tr>\n",
       "      <th>11367</th>\n",
       "      <td>2018_1422_1460</td>\n",
       "      <td>0.072169</td>\n",
       "    </tr>\n",
       "    <tr>\n",
       "      <th>11368</th>\n",
       "      <td>2018_1422_1462</td>\n",
       "      <td>0.264728</td>\n",
       "    </tr>\n",
       "    <tr>\n",
       "      <th>11369</th>\n",
       "      <td>2018_1437_1438</td>\n",
       "      <td>0.133216</td>\n",
       "    </tr>\n",
       "    <tr>\n",
       "      <th>11370</th>\n",
       "      <td>2018_1437_1439</td>\n",
       "      <td>0.154131</td>\n",
       "    </tr>\n",
       "    <tr>\n",
       "      <th>11371</th>\n",
       "      <td>2018_1437_1452</td>\n",
       "      <td>0.232938</td>\n",
       "    </tr>\n",
       "    <tr>\n",
       "      <th>11372</th>\n",
       "      <td>2018_1437_1455</td>\n",
       "      <td>0.098560</td>\n",
       "    </tr>\n",
       "    <tr>\n",
       "      <th>11373</th>\n",
       "      <td>2018_1437_1460</td>\n",
       "      <td>0.154131</td>\n",
       "    </tr>\n",
       "    <tr>\n",
       "      <th>11374</th>\n",
       "      <td>2018_1437_1462</td>\n",
       "      <td>0.154131</td>\n",
       "    </tr>\n",
       "    <tr>\n",
       "      <th>11375</th>\n",
       "      <td>2018_1438_1439</td>\n",
       "      <td>0.299164</td>\n",
       "    </tr>\n",
       "    <tr>\n",
       "      <th>11376</th>\n",
       "      <td>2018_1438_1452</td>\n",
       "      <td>0.415685</td>\n",
       "    </tr>\n",
       "    <tr>\n",
       "      <th>11377</th>\n",
       "      <td>2018_1438_1455</td>\n",
       "      <td>0.177657</td>\n",
       "    </tr>\n",
       "    <tr>\n",
       "      <th>11378</th>\n",
       "      <td>2018_1438_1460</td>\n",
       "      <td>0.264728</td>\n",
       "    </tr>\n",
       "    <tr>\n",
       "      <th>11379</th>\n",
       "      <td>2018_1438_1462</td>\n",
       "      <td>0.415685</td>\n",
       "    </tr>\n",
       "    <tr>\n",
       "      <th>11380</th>\n",
       "      <td>2018_1439_1452</td>\n",
       "      <td>0.072169</td>\n",
       "    </tr>\n",
       "    <tr>\n",
       "      <th>11381</th>\n",
       "      <td>2018_1439_1455</td>\n",
       "      <td>0.154131</td>\n",
       "    </tr>\n",
       "    <tr>\n",
       "      <th>11382</th>\n",
       "      <td>2018_1439_1460</td>\n",
       "      <td>0.072169</td>\n",
       "    </tr>\n",
       "    <tr>\n",
       "      <th>11383</th>\n",
       "      <td>2018_1439_1462</td>\n",
       "      <td>0.114754</td>\n",
       "    </tr>\n",
       "    <tr>\n",
       "      <th>11384</th>\n",
       "      <td>2018_1452_1455</td>\n",
       "      <td>0.500000</td>\n",
       "    </tr>\n",
       "    <tr>\n",
       "      <th>11385</th>\n",
       "      <td>2018_1452_1460</td>\n",
       "      <td>0.500000</td>\n",
       "    </tr>\n",
       "    <tr>\n",
       "      <th>11386</th>\n",
       "      <td>2018_1452_1462</td>\n",
       "      <td>0.232938</td>\n",
       "    </tr>\n",
       "    <tr>\n",
       "      <th>11387</th>\n",
       "      <td>2018_1455_1460</td>\n",
       "      <td>0.336033</td>\n",
       "    </tr>\n",
       "    <tr>\n",
       "      <th>11388</th>\n",
       "      <td>2018_1455_1462</td>\n",
       "      <td>0.375013</td>\n",
       "    </tr>\n",
       "    <tr>\n",
       "      <th>11389</th>\n",
       "      <td>2018_1460_1462</td>\n",
       "      <td>0.098560</td>\n",
       "    </tr>\n",
       "  </tbody>\n",
       "</table>\n",
       "<p>11390 rows × 2 columns</p>\n",
       "</div>"
      ],
      "text/plain": [
       "                   ID      Pred\n",
       "0      2014_1107_1110  0.457538\n",
       "1      2014_1107_1112  0.072169\n",
       "2      2014_1107_1113  0.084433\n",
       "3      2014_1107_1124  0.264728\n",
       "4      2014_1107_1140  0.299164\n",
       "5      2014_1107_1142  0.822343\n",
       "6      2014_1107_1153  0.154131\n",
       "7      2014_1107_1157  0.177657\n",
       "8      2014_1107_1160  0.700836\n",
       "9      2014_1107_1163  0.336033\n",
       "10     2014_1107_1166  0.264728\n",
       "11     2014_1107_1173  0.299164\n",
       "12     2014_1107_1174  0.822343\n",
       "13     2014_1107_1181  0.500000\n",
       "14     2014_1107_1184  0.663967\n",
       "15     2014_1107_1196  0.500000\n",
       "16     2014_1107_1203  0.542462\n",
       "17     2014_1107_1211  0.927831\n",
       "18     2014_1107_1217  0.735272\n",
       "19     2014_1107_1234  0.845869\n",
       "20     2014_1107_1235  0.735272\n",
       "21     2014_1107_1242  0.133216\n",
       "22     2014_1107_1243  0.154131\n",
       "23     2014_1107_1246  0.663967\n",
       "24     2014_1107_1257  0.299164\n",
       "25     2014_1107_1264  0.457538\n",
       "26     2014_1107_1269  0.299164\n",
       "27     2014_1107_1272  0.133216\n",
       "28     2014_1107_1273  0.500000\n",
       "29     2014_1107_1276  0.542462\n",
       "...               ...       ...\n",
       "11360  2018_1420_1460  0.133216\n",
       "11361  2018_1420_1462  0.457538\n",
       "11362  2018_1422_1437  0.336033\n",
       "11363  2018_1422_1438  0.177657\n",
       "11364  2018_1422_1439  0.072169\n",
       "11365  2018_1422_1452  0.177657\n",
       "11366  2018_1422_1455  0.457538\n",
       "11367  2018_1422_1460  0.072169\n",
       "11368  2018_1422_1462  0.264728\n",
       "11369  2018_1437_1438  0.133216\n",
       "11370  2018_1437_1439  0.154131\n",
       "11371  2018_1437_1452  0.232938\n",
       "11372  2018_1437_1455  0.098560\n",
       "11373  2018_1437_1460  0.154131\n",
       "11374  2018_1437_1462  0.154131\n",
       "11375  2018_1438_1439  0.299164\n",
       "11376  2018_1438_1452  0.415685\n",
       "11377  2018_1438_1455  0.177657\n",
       "11378  2018_1438_1460  0.264728\n",
       "11379  2018_1438_1462  0.415685\n",
       "11380  2018_1439_1452  0.072169\n",
       "11381  2018_1439_1455  0.154131\n",
       "11382  2018_1439_1460  0.072169\n",
       "11383  2018_1439_1462  0.114754\n",
       "11384  2018_1452_1455  0.500000\n",
       "11385  2018_1452_1460  0.500000\n",
       "11386  2018_1452_1462  0.232938\n",
       "11387  2018_1455_1460  0.336033\n",
       "11388  2018_1455_1462  0.375013\n",
       "11389  2018_1460_1462  0.098560\n",
       "\n",
       "[11390 rows x 2 columns]"
      ]
     },
     "execution_count": 21,
     "metadata": {},
     "output_type": "execute_result"
    }
   ],
   "source": [
    "df_final_sub"
   ]
  },
  {
   "cell_type": "code",
   "execution_count": null,
   "metadata": {},
   "outputs": [],
   "source": []
  }
 ],
 "metadata": {
  "kernelspec": {
   "display_name": "march_madness",
   "language": "python",
   "name": "march_madness"
  },
  "language_info": {
   "codemirror_mode": {
    "name": "ipython",
    "version": 3
   },
   "file_extension": ".py",
   "mimetype": "text/x-python",
   "name": "python",
   "nbconvert_exporter": "python",
   "pygments_lexer": "ipython3",
   "version": "3.7.0"
  }
 },
 "nbformat": 4,
 "nbformat_minor": 2
}
