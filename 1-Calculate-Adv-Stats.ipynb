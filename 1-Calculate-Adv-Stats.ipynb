{
 "cells": [
  {
   "cell_type": "code",
   "execution_count": 1,
   "metadata": {},
   "outputs": [],
   "source": [
    "import pandas as pd"
   ]
  },
  {
   "cell_type": "code",
   "execution_count": 2,
   "metadata": {},
   "outputs": [
    {
     "data": {
      "text/plain": [
       "(82041, 34)"
      ]
     },
     "execution_count": 2,
     "metadata": {},
     "output_type": "execute_result"
    }
   ],
   "source": [
    "season_dat = pd.read_csv('data/DataFiles/RegularSeasonDetailedResults.csv')\n",
    "season_dat.shape"
   ]
  },
  {
   "cell_type": "markdown",
   "metadata": {},
   "source": [
    "### Advanced Metrics"
   ]
  },
  {
   "cell_type": "markdown",
   "metadata": {},
   "source": [
    "Calculate:     \n",
    "1) Offensive Efficiency - Possession based   \n",
    "2) Defensive Efficiency - Possession based   \n",
    "3) Net Rating - Possession based   \n",
    "4) Assist Ratios      \n",
    "5) eFG    \n",
    "\n",
    "Maybe look for Dean Olivers Four Factor Formula "
   ]
  },
  {
   "cell_type": "markdown",
   "metadata": {},
   "source": [
    "## Regular Season Data "
   ]
  },
  {
   "cell_type": "code",
   "execution_count": 3,
   "metadata": {},
   "outputs": [],
   "source": [
    "# pos = possessions\n",
    "season_dat['wPos'] = season_dat.apply(lambda row: 0.96*(row.WFGA + row.WTO + 0.44*row.WFTA - row.WOR), axis=1)\n",
    "season_dat['lPos'] = season_dat.apply(lambda row: 0.96*(row.LFGA + row.LTO + 0.44*row.LFTA - row.LOR), axis=1)"
   ]
  },
  {
   "cell_type": "code",
   "execution_count": 4,
   "metadata": {},
   "outputs": [],
   "source": [
    "season_dat['WOffRtg'] = season_dat.apply(lambda row: 100 * (row.WScore / row.wPos), axis=1)\n",
    "season_dat['LOffRtg'] = season_dat.apply(lambda row: 100 * (row.LScore / row.lPos), axis=1)\n",
    "#Defensive efficiency (DefRtg) = 100 x (Opponent points / Opponent possessions)\n",
    "season_dat['WDefRtg'] = season_dat.LOffRtg\n",
    "season_dat['LDefRtg'] = season_dat.WOffRtg\n",
    "#Net Rating = Off.Rtg - Def.Rtg\n",
    "season_dat['WNetRtg'] = season_dat.apply(lambda row:(row.WOffRtg - row.WDefRtg), axis=1)\n",
    "season_dat['LNetRtg'] = season_dat.apply(lambda row:(row.LOffRtg - row.LDefRtg), axis=1)"
   ]
  },
  {
   "cell_type": "code",
   "execution_count": 5,
   "metadata": {},
   "outputs": [],
   "source": [
    "#Assist Ratio : Percentage of team possessions that end in assists\n",
    "season_dat['WAstR'] = season_dat.apply(lambda row: 100 * row.WAst / (row.WFGA + 0.44*row.WFTA + row.WAst + row.WTO), axis=1)\n",
    "season_dat['LAstR'] = season_dat.apply(lambda row: 100 * row.LAst / (row.LFGA + 0.44*row.LFTA + row.LAst + row.LTO), axis=1)\n",
    "#Turnover Ratio: Number of turnovers of a team per 100 possessions used.\n",
    "#(TO * 100) / (FGA + (FTA * 0.44) + AST + TO)\n",
    "season_dat['WTOR'] = season_dat.apply(lambda row: 100 * row.WTO / (row.WFGA + 0.44*row.WFTA + row.WAst + row.WTO), axis=1)\n",
    "season_dat['LTOR'] = season_dat.apply(lambda row: 100 * row.LTO / (row.LFGA + 0.44*row.LFTA + row.LAst + row.LTO), axis=1)\n",
    "                    \n",
    "#eFG% : Effective Field Goal Percentage adjusting for the fact that 3pt shots are more valuable\n",
    "season_dat['WeFGP'] = season_dat.apply(lambda row:(row.WFGM + 0.5 * row.WFGM3) / row.WFGA, axis=1)      \n",
    "season_dat['LeFGP'] = season_dat.apply(lambda row:(row.LFGM + 0.5 * row.LFGM3) / row.LFGA, axis=1) "
   ]
  },
  {
   "cell_type": "code",
   "execution_count": 6,
   "metadata": {},
   "outputs": [],
   "source": [
    "#FTA Rate : How good a team is at drawing fouls.\n",
    "season_dat['WFTAR'] = season_dat.apply(lambda row: row.WFTA / row.WFGA, axis=1)\n",
    "season_dat['LFTAR'] = season_dat.apply(lambda row: row.LFTA / row.LFGA, axis=1)\n",
    "                         \n",
    "#OREB% : Percentage of team offensive rebounds\n",
    "season_dat['WORP'] = season_dat.apply(lambda row: row.WOR / (row.WOR + row.LDR), axis=1)\n",
    "season_dat['LORP'] = season_dat.apply(lambda row: row.LOR / (row.LOR + row.WDR), axis=1)\n",
    "#DREB% : Percentage of team defensive rebounds\n",
    "season_dat['WDRP'] = season_dat.apply(lambda row: row.WDR / (row.WDR + row.LOR), axis=1)\n",
    "season_dat['LDRP'] = season_dat.apply(lambda row: row.LDR / (row.LDR + row.WOR), axis=1)                                      \n",
    "#REB% : Percentage of team total rebounds\n",
    "season_dat['WRP'] = season_dat.apply(lambda row: (row.WDR + row.WOR) / (row.WDR + row.WOR + row.LDR + row.LOR), axis=1)\n",
    "season_dat['LRP'] = season_dat.apply(lambda row: (row.LDR + row.LOR) / (row.WDR + row.WOR + row.LDR + row.LOR), axis=1) "
   ]
  },
  {
   "cell_type": "code",
   "execution_count": 7,
   "metadata": {},
   "outputs": [],
   "source": [
    "season_dat['W4Factor'] = season_dat.apply(lambda row: .40*row.WeFGP + .25*row.WTOR + .20*row.WORP + .15*row.WFTAR, axis=1)\n",
    "season_dat['L4Factor'] = season_dat.apply(lambda row: .40*row.LeFGP + .25*row.LTOR + .20*row.LORP + .15*row.LFTAR, axis=1)                                      "
   ]
  },
  {
   "cell_type": "markdown",
   "metadata": {},
   "source": [
    "## Ken Pom Ranks "
   ]
  },
  {
   "cell_type": "code",
   "execution_count": 8,
   "metadata": {},
   "outputs": [
    {
     "data": {
      "text/plain": [
       "(3492320, 5)"
      ]
     },
     "execution_count": 8,
     "metadata": {},
     "output_type": "execute_result"
    }
   ],
   "source": [
    "ranks_dat = pd.read_csv('data/MasseyOrdinals.csv')\n",
    "ranks_dat.shape"
   ]
  },
  {
   "cell_type": "code",
   "execution_count": 9,
   "metadata": {},
   "outputs": [],
   "source": [
    "ken_pom_ranks = ranks_dat[(ranks_dat['SystemName'] == 'POM') & (ranks_dat['RankingDayNum'] == 133)].drop(labels=['RankingDayNum', 'SystemName'],axis=1)"
   ]
  },
  {
   "cell_type": "code",
   "execution_count": 10,
   "metadata": {},
   "outputs": [],
   "source": [
    "ken_pom_ranks.to_csv(\"data/Final/final_raw_kp_dat.csv\",index=False)"
   ]
  },
  {
   "cell_type": "markdown",
   "metadata": {},
   "source": [
    "## Tourney Data"
   ]
  },
  {
   "cell_type": "code",
   "execution_count": 11,
   "metadata": {},
   "outputs": [
    {
     "name": "stdout",
     "output_type": "stream",
     "text": [
      "(2184, 8)\n",
      "(2218, 3)\n"
     ]
    }
   ],
   "source": [
    "df_tourney = pd.read_csv('data/DataFiles/NCAATourneyCompactResults.csv')\n",
    "df_seed = pd.read_csv('data/DataFiles/NCAATourneySeeds.csv')\n",
    "print(df_tourney.shape)\n",
    "print(df_seed.shape)"
   ]
  },
  {
   "cell_type": "code",
   "execution_count": 12,
   "metadata": {},
   "outputs": [],
   "source": [
    "df_seed['Seed'] = df_seed['Seed'].str.replace('[a-zA-Z]', '').astype('int64')"
   ]
  },
  {
   "cell_type": "code",
   "execution_count": 13,
   "metadata": {},
   "outputs": [],
   "source": [
    "df_seed.to_csv('data/Final/final_raw_seeds.csv',index=False)"
   ]
  },
  {
   "cell_type": "code",
   "execution_count": 14,
   "metadata": {},
   "outputs": [],
   "source": [
    "df_seedv2 = pd.merge(df_tourney, df_seed, how='inner', \n",
    "               left_on=['Season', 'WTeamID'], \n",
    "               right_on=['Season', 'TeamID']).rename(columns={\"Seed\": \"W_SEED\"})\n",
    "df_seedv2 = pd.merge(df_seedv2, df_seed, how='inner', \n",
    "               left_on=['Season', 'LTeamID'], \n",
    "               right_on=['Season', 'TeamID']).rename(columns={\"Seed\": \"L_SEED\"})"
   ]
  },
  {
   "cell_type": "code",
   "execution_count": 15,
   "metadata": {},
   "outputs": [],
   "source": [
    "df_seedv2 = pd.merge(df_seedv2,ken_pom_ranks,how='inner',\n",
    "                    left_on = ['Season','WTeamID'],\n",
    "                    right_on = ['Season','TeamID']).rename(columns={'OrdinalRank':'WKP'})\n",
    "df_seedv2 = pd.merge(df_seedv2,ken_pom_ranks,how='inner',\n",
    "                    left_on = ['Season','LTeamID'],\n",
    "                    right_on = ['Season','TeamID']).rename(columns={'OrdinalRank':'LKP'})"
   ]
  },
  {
   "cell_type": "code",
   "execution_count": 16,
   "metadata": {},
   "outputs": [],
   "source": [
    "df_seedv2['Seed_Diff'] = df_seedv2['W_SEED'] - df_seedv2['L_SEED']\n",
    "df_seedv2['KP_Diff'] = df_seedv2['WKP'] - df_seedv2['LKP']"
   ]
  },
  {
   "cell_type": "code",
   "execution_count": 17,
   "metadata": {},
   "outputs": [],
   "source": [
    "df_seedv2 = df_seedv2.drop(columns=['TeamID_x', 'TeamID_y'])"
   ]
  },
  {
   "cell_type": "code",
   "execution_count": 18,
   "metadata": {},
   "outputs": [],
   "source": [
    "df_seedv2 = df_seedv2[df_seedv2['Season'] < 2014]"
   ]
  },
  {
   "cell_type": "code",
   "execution_count": 19,
   "metadata": {},
   "outputs": [],
   "source": [
    "df_wins = pd.DataFrame()\n",
    "df_wins['Seed_Diff'] = df_seedv2['Seed_Diff']\n",
    "df_wins['KP_Diff'] = df_seedv2['KP_Diff']\n",
    "df_wins['result'] = 1\n",
    "\n",
    "df_losses = pd.DataFrame()\n",
    "df_losses['Seed_Diff'] = -df_seedv2['Seed_Diff']\n",
    "df_losses['KP_Diff'] = df_seedv2['KP_Diff']\n",
    "df_losses['result'] = 0\n",
    "\n",
    "df_seed_preds = pd.concat((df_wins, df_losses))"
   ]
  },
  {
   "cell_type": "code",
   "execution_count": 20,
   "metadata": {},
   "outputs": [],
   "source": [
    "df_seed_preds.to_csv('data/Final/data_kp_seed.csv',index=False)"
   ]
  },
  {
   "cell_type": "code",
   "execution_count": null,
   "metadata": {},
   "outputs": [],
   "source": []
  }
 ],
 "metadata": {
  "kernelspec": {
   "display_name": "march_madness",
   "language": "python",
   "name": "march_madness"
  },
  "language_info": {
   "codemirror_mode": {
    "name": "ipython",
    "version": 3
   },
   "file_extension": ".py",
   "mimetype": "text/x-python",
   "name": "python",
   "nbconvert_exporter": "python",
   "pygments_lexer": "ipython3",
   "version": "3.7.0"
  }
 },
 "nbformat": 4,
 "nbformat_minor": 2
}
